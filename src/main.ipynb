{
 "cells": [
  {
   "cell_type": "code",
   "execution_count": 1,
   "id": "6b6f39ae",
   "metadata": {},
   "outputs": [
    {
     "name": "stdout",
     "output_type": "stream",
     "text": [
      "importing Jupyter notebook from Extract_Twitter_Trends.ipynb\n"
     ]
    }
   ],
   "source": [
    "#import libraries\n",
    "import import_ipynb\n",
    "\n",
    "#import ipynb files\n",
    "from Extract_Twitter_Trends import Twitter_Trends\n",
    "\n",
    "#ignore warnings\n",
    "import warnings\n",
    "warnings.filterwarnings('ignore')"
   ]
  },
  {
   "cell_type": "code",
   "execution_count": 2,
   "id": "dc36ace8",
   "metadata": {},
   "outputs": [
    {
     "name": "stdout",
     "output_type": "stream",
     "text": [
      "https://getdaytrends.com/netherlands/2023-05-11/14/\n",
      "{1: '#Imran_Khan', 2: 'Pakistán', 3: 'Gideon'}\n"
     ]
    }
   ],
   "source": [
    "trends = Twitter_Trends('netherlands', '2023-05-11', 14, 3)\n",
    "top_trends = trends.get_top_trends()\n",
    "print (top_trends)"
   ]
  },
  {
   "cell_type": "code",
   "execution_count": null,
   "id": "d008c3fa",
   "metadata": {},
   "outputs": [],
   "source": []
  }
 ],
 "metadata": {
  "kernelspec": {
   "display_name": "Python 3 (ipykernel)",
   "language": "python",
   "name": "python3"
  },
  "language_info": {
   "codemirror_mode": {
    "name": "ipython",
    "version": 3
   },
   "file_extension": ".py",
   "mimetype": "text/x-python",
   "name": "python",
   "nbconvert_exporter": "python",
   "pygments_lexer": "ipython3",
   "version": "3.11.3"
  }
 },
 "nbformat": 4,
 "nbformat_minor": 5
}
