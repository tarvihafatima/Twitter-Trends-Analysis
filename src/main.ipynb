{
 "cells": [
  {
   "cell_type": "code",
   "execution_count": 1,
   "id": "88666724",
   "metadata": {},
   "outputs": [
    {
     "name": "stdout",
     "output_type": "stream",
     "text": [
      "importing Jupyter notebook from C:\\Users\\tarvi\\Twitter Trends Analysis\\Phase 3\\src\\common\\Extract_Twitter_Trends.ipynb\n",
      "importing Jupyter notebook from C:\\Users\\tarvi\\Twitter Trends Analysis\\Phase 3\\src\\config\\Read_Configs.ipynb\n",
      "importing Jupyter notebook from C:\\Users\\tarvi\\Twitter Trends Analysis\\Phase 3\\src\\common\\App.ipynb\n",
      "importing Jupyter notebook from C:\\Users\\tarvi\\Twitter Trends Analysis\\Phase 3\\src\\common\\My_Subscribe_Callback.ipynb\n"
     ]
    }
   ],
   "source": [
    "#import libraries\n",
    "import import_ipynb\n",
    "import requests\n",
    "import time \n",
    "from datetime import datetime\n",
    "\n",
    "#import ipynb files\n",
    "from common.Extract_Twitter_Trends import Twitter_Trends\n",
    "import config.Read_Configs as Read_Configs\n",
    "from common.App import PubNub_Config\n",
    "import common.My_Subscribe_Callback as My_Subscribe_Callback\n",
    "\n",
    "#ignore warnings\n",
    "import warnings\n",
    "warnings.filterwarnings('ignore')"
   ]
  },
  {
   "cell_type": "code",
   "execution_count": 2,
   "id": "e228f910",
   "metadata": {},
   "outputs": [],
   "source": [
    "def set_config_for_tweets(top_trends, minutes):\n",
    "    My_Subscribe_Callback.set_minutes = minutes\n",
    "    My_Subscribe_Callback.set_top_trends = top_trends"
   ]
  },
  {
   "cell_type": "code",
   "execution_count": 3,
   "id": "5de8fa45",
   "metadata": {},
   "outputs": [
    {
     "name": "stdout",
     "output_type": "stream",
     "text": [
      "C:\\Users\\tarvi\\Twitter Trends Analysis\\Phase 3\\src\\data\\configuration.yaml\n"
     ]
    }
   ],
   "source": [
    "pubnub_configs = Read_Configs.read_pubnub_configurations()"
   ]
  },
  {
   "cell_type": "code",
   "execution_count": 4,
   "id": "537fc83e",
   "metadata": {},
   "outputs": [],
   "source": [
    "stream = PubNub_Config(pubnub_configs['subscribe_key'], pubnub_configs['publish_key'], pubnub_configs['user_id'] )"
   ]
  },
  {
   "cell_type": "code",
   "execution_count": 5,
   "id": "8eb3094a",
   "metadata": {},
   "outputs": [
    {
     "name": "stdout",
     "output_type": "stream",
     "text": [
      "16 2023-02-09\n"
     ]
    }
   ],
   "source": [
    "FirstSubscribeCallback = My_Subscribe_Callback.FirstSubscribeCallback()\n",
    "stream.run(FirstSubscribeCallback)\n",
    "time.sleep(10)"
   ]
  },
  {
   "cell_type": "code",
   "execution_count": 6,
   "id": "2c76a35b",
   "metadata": {},
   "outputs": [
    {
     "name": "stdout",
     "output_type": "stream",
     "text": [
      "16 2023-02-09\n"
     ]
    }
   ],
   "source": [
    "hour = My_Subscribe_Callback.get_hour\n",
    "date = My_Subscribe_Callback.get_date\n",
    "print(hour, date)"
   ]
  },
  {
   "cell_type": "code",
   "execution_count": 7,
   "id": "76a08111",
   "metadata": {},
   "outputs": [],
   "source": [
    "# URL for retreiving Twitter Trends configurations from API \n",
    "URL = \"https://9188-2a02-a210-2ec2-1480-58ec-cacd-5b36-a6cf.ngrok-free.app/trend_read_configurations/\"\n",
    "  \n",
    "# sending get request and saving the response \n",
    "r = requests.get(url = URL)\n",
    "\n",
    "# populating config variables \n",
    "trends = r.json()[0]\n",
    "country = r.json()[1]"
   ]
  },
  {
   "cell_type": "code",
   "execution_count": 8,
   "id": "df55c5ff",
   "metadata": {},
   "outputs": [
    {
     "name": "stdout",
     "output_type": "stream",
     "text": [
      "https://getdaytrends.com/netherlands/2023-02-09/16/\n",
      "{1: 'feynec', 2: 'burt bacharach', 3: 'hazes'}\n"
     ]
    }
   ],
   "source": [
    "trends = Twitter_Trends(country, date, hour, trends)\n",
    "top_trends = trends.get_top_trends()\n",
    "print (top_trends)"
   ]
  },
  {
   "cell_type": "code",
   "execution_count": 9,
   "id": "61df9570",
   "metadata": {},
   "outputs": [
    {
     "name": "stdout",
     "output_type": "stream",
     "text": [
      "Minutes: 5\n"
     ]
    }
   ],
   "source": [
    "# URL for retreiving Time configurations from API \n",
    "URL = \"https://9188-2a02-a210-2ec2-1480-58ec-cacd-5b36-a6cf.ngrok-free.app/get_timer/\"\n",
    "  \n",
    "# sending get request and saving the response \n",
    "r = requests.get(url = URL)\n",
    "\n",
    "# populating config variables \n",
    "minutes = r.json()\n",
    "print(\"Minutes:\", minutes)"
   ]
  },
  {
   "cell_type": "code",
   "execution_count": 10,
   "id": "7ff9ecb5",
   "metadata": {},
   "outputs": [],
   "source": [
    "set_config_for_tweets(top_trends, minutes)"
   ]
  },
  {
   "cell_type": "code",
   "execution_count": 11,
   "id": "3defef40",
   "metadata": {
    "scrolled": true
   },
   "outputs": [
    {
     "name": "stdout",
     "output_type": "stream",
     "text": [
      "Process Started at:  2023-02-09 16:29:53+00:00\n",
      "5  minutes have passed  2023-02-09 16:34:54+00:00\n",
      "Twitter tweets {'1675956593_5': {'feynec': 0, 'burt bacharach': 0, 'hazes': 0}}\n"
     ]
    }
   ],
   "source": [
    "MainSubscribeCallback = My_Subscribe_Callback.MainSubscribeCallback()\n",
    "stream.run(MainSubscribeCallback)\n",
    "time.sleep(minutes * 120)"
   ]
  }
 ],
 "metadata": {
  "kernelspec": {
   "display_name": "Python 3 (ipykernel)",
   "language": "python",
   "name": "python3"
  },
  "language_info": {
   "codemirror_mode": {
    "name": "ipython",
    "version": 3
   },
   "file_extension": ".py",
   "mimetype": "text/x-python",
   "name": "python",
   "nbconvert_exporter": "python",
   "pygments_lexer": "ipython3",
   "version": "3.11.3"
  }
 },
 "nbformat": 4,
 "nbformat_minor": 5
}
