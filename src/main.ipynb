{
 "cells": [
  {
   "cell_type": "code",
   "execution_count": 1,
   "id": "88666724",
   "metadata": {},
   "outputs": [
    {
     "name": "stdout",
     "output_type": "stream",
     "text": [
      "importing Jupyter notebook from C:\\Users\\tarvi\\Twitter Trends Analysis\\Phase 2\\src\\common\\Extract_Twitter_Trends.ipynb\n",
      "importing Jupyter notebook from C:\\Users\\tarvi\\Twitter Trends Analysis\\Phase 2\\src\\config\\Read_Configs.ipynb\n",
      "importing Jupyter notebook from C:\\Users\\tarvi\\Twitter Trends Analysis\\Phase 2\\src\\common\\App.ipynb\n",
      "importing Jupyter notebook from C:\\Users\\tarvi\\Twitter Trends Analysis\\Phase 2\\src\\common\\My_Subscribe_Callback.ipynb\n"
     ]
    }
   ],
   "source": [
    "#import libraries\n",
    "import import_ipynb\n",
    "import requests\n",
    "import time \n",
    "\n",
    "#import ipynb files\n",
    "from common.Extract_Twitter_Trends import Twitter_Trends\n",
    "import config.Read_Configs as Read_Configs\n",
    "from common.App import PubNub_Config\n",
    "import common.My_Subscribe_Callback as My_Subscribe_Callback\n",
    "\n",
    "#ignore warnings\n",
    "import warnings\n",
    "warnings.filterwarnings('ignore')"
   ]
  },
  {
   "cell_type": "code",
   "execution_count": 2,
   "id": "5de8fa45",
   "metadata": {},
   "outputs": [
    {
     "name": "stdout",
     "output_type": "stream",
     "text": [
      "C:\\Users\\tarvi\\Twitter Trends Analysis\\Phase 2\\src\\data\\configuration.yaml\n"
     ]
    }
   ],
   "source": [
    "pubnub_configs = Read_Configs.read_pubnub_configurations()"
   ]
  },
  {
   "cell_type": "code",
   "execution_count": 3,
   "id": "537fc83e",
   "metadata": {},
   "outputs": [],
   "source": [
    "stream = PubNub_Config(pubnub_configs['subscribe_key'], pubnub_configs['publish_key'], pubnub_configs['user_id'] )"
   ]
  },
  {
   "cell_type": "code",
   "execution_count": 4,
   "id": "8eb3094a",
   "metadata": {},
   "outputs": [
    {
     "name": "stdout",
     "output_type": "stream",
     "text": [
      "15 2023-02-09\n"
     ]
    }
   ],
   "source": [
    "FirstSubscribeCallback = My_Subscribe_Callback.FirstSubscribeCallback()\n",
    "stream.run(FirstSubscribeCallback)\n",
    "time.sleep(30)"
   ]
  },
  {
   "cell_type": "code",
   "execution_count": 5,
   "id": "2c76a35b",
   "metadata": {},
   "outputs": [
    {
     "name": "stdout",
     "output_type": "stream",
     "text": [
      "15 2023-02-09\n"
     ]
    }
   ],
   "source": [
    "hour = My_Subscribe_Callback.get_hour\n",
    "date = My_Subscribe_Callback.get_date\n",
    "print(hour, date)"
   ]
  },
  {
   "cell_type": "code",
   "execution_count": 6,
   "id": "76a08111",
   "metadata": {},
   "outputs": [],
   "source": [
    "# URL for retreiving Twitter Trends configurations from API \n",
    "URL = \"https://9188-2a02-a210-2ec2-1480-58ec-cacd-5b36-a6cf.ngrok-free.app/trend_read_configurations/\"\n",
    "  \n",
    "# sending get request and saving the response \n",
    "r = requests.get(url = URL)\n",
    "\n",
    "# populating config variables \n",
    "trends = r.json()[0]\n",
    "country = r.json()[1]"
   ]
  },
  {
   "cell_type": "code",
   "execution_count": 7,
   "id": "df55c5ff",
   "metadata": {},
   "outputs": [
    {
     "name": "stdout",
     "output_type": "stream",
     "text": [
      "https://getdaytrends.com/netherlands/2023-02-09/15/\n",
      "{1: '#feynec', 2: 'Unilever', 3: 'Emine'}\n"
     ]
    }
   ],
   "source": [
    "trends = Twitter_Trends(country, date, hour, trends)\n",
    "top_trends = trends.get_top_trends()\n",
    "print (top_trends)"
   ]
  }
 ],
 "metadata": {
  "kernelspec": {
   "display_name": "Python 3 (ipykernel)",
   "language": "python",
   "name": "python3"
  },
  "language_info": {
   "codemirror_mode": {
    "name": "ipython",
    "version": 3
   },
   "file_extension": ".py",
   "mimetype": "text/x-python",
   "name": "python",
   "nbconvert_exporter": "python",
   "pygments_lexer": "ipython3",
   "version": "3.11.3"
  }
 },
 "nbformat": 4,
 "nbformat_minor": 5
}
