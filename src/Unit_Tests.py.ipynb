{
 "cells": [
  {
   "cell_type": "markdown",
   "id": "ec8cc21d",
   "metadata": {},
   "source": [
    "## Import Dependencies"
   ]
  },
  {
   "cell_type": "code",
   "execution_count": 1,
   "id": "9e2f3efa",
   "metadata": {},
   "outputs": [
    {
     "name": "stdout",
     "output_type": "stream",
     "text": [
      "importing Jupyter notebook from C:\\Users\\tarvi\\Twitter Trends Analysis\\Final\\src\\common\\Extract_Twitter_Trends.ipynb\n",
      "importing Jupyter notebook from C:\\Users\\tarvi\\Twitter Trends Analysis\\Final\\src\\config\\Read_Configs.ipynb\n"
     ]
    }
   ],
   "source": [
    "#import libraries\n",
    "import import_ipynb\n",
    "import unittest\n",
    "\n",
    "#import ipynb files\n",
    "from common.Extract_Twitter_Trends import Twitter_Trends\n",
    "import config.Read_Configs as Read_Configs\n",
    "\n",
    "#ignore warnings\n",
    "import warnings\n",
    "warnings.filterwarnings('ignore')"
   ]
  },
  {
   "cell_type": "markdown",
   "id": "7dc98927",
   "metadata": {},
   "source": [
    "## Initialize Class for Unit Testing"
   ]
  },
  {
   "cell_type": "code",
   "execution_count": 6,
   "id": "2d77c20a",
   "metadata": {},
   "outputs": [
    {
     "name": "stdout",
     "output_type": "stream",
     "text": [
      "https://getdaytrends.com/netherlands/2020-10-02/12/\n"
     ]
    },
    {
     "name": "stderr",
     "output_type": "stream",
     "text": [
      "."
     ]
    },
    {
     "name": "stdout",
     "output_type": "stream",
     "text": [
      "https://getdaytrends.com/netherlands/2020-10-02/12/\n"
     ]
    },
    {
     "name": "stderr",
     "output_type": "stream",
     "text": [
      ".......\n",
      "----------------------------------------------------------------------\n",
      "Ran 8 tests in 9.485s\n",
      "\n",
      "OK\n"
     ]
    },
    {
     "name": "stdout",
     "output_type": "stream",
     "text": [
      "C:\\Users\\tarvi\\Twitter Trends Analysis\\Final\\src\\data\\configuration.yaml\n",
      "C:\\Users\\tarvi\\Twitter Trends Analysis\\Final\\src\\data\\configuration.yaml\n",
      "C:\\Users\\tarvi\\Twitter Trends Analysis\\Final\\src\\data\\configuration.yaml\n",
      "C:\\Users\\tarvi\\Twitter Trends Analysis\\Final\\src\\data\\configuration.yaml\n",
      "C:\\Users\\tarvi\\Twitter Trends Analysis\\Final\\src\\data\\configuration.yaml\n",
      "C:\\Users\\tarvi\\Twitter Trends Analysis\\Final\\src\\data\\configuration.yaml\n"
     ]
    }
   ],
   "source": [
    "class TestCalculations(unittest.TestCase):\n",
    "\n",
    "    \n",
    "    # Unit Testing Top Trends Function for None values\n",
    "    def test_get_top_trends_none(self):\n",
    "        self.assertIsNotNone(str(self.trends.get_top_trends()), 'Correct Extraction of Top Trends')\n",
    "        \n",
    "        \n",
    "    # Unit Testing Top Trends Function for Empty values    \n",
    "    def test_get_top_trends_empty(self):  \n",
    "        self.assertNotEqual(str(self.trends.get_top_trends()), '{}', 'Correct Extraction of Top Trends')\n",
    "\n",
    "        \n",
    "    # Unit Testing Read YAML Function for None values  \n",
    "    def test_get_yaml_none(self):\n",
    "        self.assertIsNotNone(str(Read_Configs.get_yaml()), 'Correct YAML')\n",
    "        \n",
    "        \n",
    "    # Unit Testing READ YAML Function for Empty values  \n",
    "    def test_get_yaml_empty(self):  \n",
    "        self.assertNotEqual(str(Read_Configs.get_yaml()), '{}', 'Correct YAML')\n",
    "        \n",
    "        \n",
    "    # Unit Testing Read PunNub Configurations Function for None values  \n",
    "    def test_read_pubnub_configurations_none(self):\n",
    "        self.assertIsNotNone(str(Read_Configs.read_pubnub_configurations()), 'Correct PubNub configurations')\n",
    "        \n",
    "        \n",
    "    #  Unit Testing Read PunNub Configurations Function for Empty values   \n",
    "    def test_read_pubnub_configurations_empty(self):  \n",
    "        self.assertNotEqual(str(Read_Configs.read_pubnub_configurations()), '{}', 'Correct PubNub configurations')\n",
    "        \n",
    "        \n",
    "    # Unit Testing Read Cassandra Configurations Function for None values  \n",
    "    def test_read_cassandra_configurations_none(self):\n",
    "        self.assertIsNotNone(str(Read_Configs.read_cassandra_configurations()), 'Correct Cassandra configurations')\n",
    "        \n",
    "        \n",
    "    # Unit Testing Read Cassandra Configurations Function for Empty values  \n",
    "    def test_read_cassandra_configurations_empty(self):  \n",
    "        self.assertNotEqual(str(Read_Configs.read_cassandra_configurations()), '{}', 'Correct Cassandra configurations')\n",
    "        \n",
    "        \n",
    "    # Initialize Classes     \n",
    "    def setUp(self):\n",
    "        \n",
    "        # Initialize Twitter Trends Class\n",
    "        self.trends = Twitter_Trends('netherlands', '2020-10-02', 12, 1)\n",
    "#         self.trends = Twitter_Trends('netherlands', None, None, 1)\n",
    "        \n",
    "    \n",
    "if __name__ == '__main__':\n",
    "    unittest.main(argv=['first-arg-is-ignored'], exit=False)"
   ]
  },
  {
   "cell_type": "code",
   "execution_count": null,
   "id": "69d911b3",
   "metadata": {},
   "outputs": [],
   "source": []
  }
 ],
 "metadata": {
  "kernelspec": {
   "display_name": "Python 3 (ipykernel)",
   "language": "python",
   "name": "python3"
  },
  "language_info": {
   "codemirror_mode": {
    "name": "ipython",
    "version": 3
   },
   "file_extension": ".py",
   "mimetype": "text/x-python",
   "name": "python",
   "nbconvert_exporter": "python",
   "pygments_lexer": "ipython3",
   "version": "3.11.3"
  }
 },
 "nbformat": 4,
 "nbformat_minor": 5
}
