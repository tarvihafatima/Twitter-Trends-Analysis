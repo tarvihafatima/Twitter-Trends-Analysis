{
 "cells": [
  {
   "cell_type": "code",
   "execution_count": 1,
   "id": "1675d227",
   "metadata": {},
   "outputs": [],
   "source": [
    "#import liberaries\n",
    "\n",
    "from cassandra.cluster import Cluster\n",
    "from cassandra.auth import PlainTextAuthProvider"
   ]
  },
  {
   "cell_type": "code",
   "execution_count": 2,
   "id": "0557aa2b",
   "metadata": {},
   "outputs": [],
   "source": [
    "#connect to Cassandra Cluster\n",
    "\n",
    "def cassandra_connection(path, cassandra_config):\n",
    "    cloud_config= {\n",
    "      'secure_connect_bundle': path\n",
    "    }\n",
    "    auth_provider = PlainTextAuthProvider(cassandra_config['ASTRA_CLIENT_ID'], cassandra_config['ASTRA_CLIENT_SECRET'])\n",
    "    cluster = Cluster(cloud=cloud_config, auth_provider=auth_provider)\n",
    "    session = cluster.connect()\n",
    "    return session"
   ]
  },
  {
   "cell_type": "code",
   "execution_count": 4,
   "id": "0cfda6fc",
   "metadata": {},
   "outputs": [],
   "source": [
    "#create table for storing Top Trends \n",
    "\n",
    "def create_table(session, keyspace, table_name, column_names, column_types, primary_key):\n",
    "    qry= 'CREATE TABLE IF NOT EXISTS ' + keyspace + '.' + table_name + '('\n",
    "    \n",
    "    for i in range(len(column_names)):\n",
    "        qry = qry + column_names[i] +  ' ' + column_types[i] + ', '\n",
    "    \n",
    "    \n",
    "    if primary_key:\n",
    "        qry = qry + 'PRIMARY KEY('\n",
    "        for pk in primary_key:\n",
    "            qry = qry + pk + ', '\n",
    "    \n",
    "        qry = qry[:-2] + '));'\n",
    "        \n",
    "    else:\n",
    "         qry = qry[:-2] + ');'\n",
    "    \n",
    "    \n",
    "    print(qry)\n",
    "    session.execute(qry)"
   ]
  },
  {
   "cell_type": "code",
   "execution_count": 5,
   "id": "34bd75b4",
   "metadata": {},
   "outputs": [],
   "source": [
    "def insert_into_table_from_df(session, keyspace, table_name, column_names, df):\n",
    "    qry= 'INSERT INTO ' + keyspace + '.' + table_name + ' ' + column_names + ' '  + 'VALUES (%s, %s)'\n",
    "    for key, value in df.items():\n",
    "        print(qry, key, value)\n",
    "        session.execute(qry, (key, value))"
   ]
  },
  {
   "cell_type": "code",
   "execution_count": 7,
   "id": "5dbf623f",
   "metadata": {},
   "outputs": [],
   "source": [
    "def select_from_table(session, keyspace, table_name):\n",
    "    qry= 'SELECT * from '+ keyspace + '.' + table_name + ';'\n",
    "    print(qry)\n",
    "    result = session.execute(qry)\n",
    "    for x in result:\n",
    "        print(x[0], x[1])"
   ]
  }
 ],
 "metadata": {
  "kernelspec": {
   "display_name": "Python 3 (ipykernel)",
   "language": "python",
   "name": "python3"
  },
  "language_info": {
   "codemirror_mode": {
    "name": "ipython",
    "version": 3
   },
   "file_extension": ".py",
   "mimetype": "text/x-python",
   "name": "python",
   "nbconvert_exporter": "python",
   "pygments_lexer": "ipython3",
   "version": "3.11.3"
  }
 },
 "nbformat": 4,
 "nbformat_minor": 5
}
