{
 "cells": [
  {
   "cell_type": "markdown",
   "id": "b69f619b",
   "metadata": {},
   "source": [
    "## Import Dependencies"
   ]
  },
  {
   "cell_type": "code",
   "execution_count": 1,
   "id": "1675d227",
   "metadata": {},
   "outputs": [],
   "source": [
    "#import liberaries\n",
    "\n",
    "from cassandra.cluster import Cluster\n",
    "from cassandra.auth import PlainTextAuthProvider"
   ]
  },
  {
   "cell_type": "markdown",
   "id": "fa636095",
   "metadata": {},
   "source": [
    "## Fucntion to Connect to Cassandra DB"
   ]
  },
  {
   "cell_type": "code",
   "execution_count": 2,
   "id": "0557aa2b",
   "metadata": {},
   "outputs": [],
   "source": [
    "# Method to connect to Cassandra Cluster\n",
    "\n",
    "def cassandra_connection(path, cassandra_config):\n",
    "    \n",
    "    try:\n",
    "    \n",
    "        # Get Bundle from Zip file\n",
    "        cloud_config= {\n",
    "          'secure_connect_bundle': path\n",
    "        }\n",
    "\n",
    "        # Get DB configurations from configuration.yaml\n",
    "\n",
    "        auth_provider = PlainTextAuthProvider(cassandra_config['ASTRA_CLIENT_ID'], cassandra_config['ASTRA_CLIENT_SECRET'])\n",
    "\n",
    "        # Connct to Cassandra DB Cluster\n",
    "\n",
    "        cluster = Cluster(cloud=cloud_config, auth_provider=auth_provider)\n",
    "        session = cluster.connect()\n",
    "\n",
    "        return session\n",
    "    \n",
    "    except Exception as e:\n",
    "        \n",
    "        print(\"Error connecting to Casandra DB\", str(e))"
   ]
  },
  {
   "cell_type": "markdown",
   "id": "187b3a48",
   "metadata": {},
   "source": [
    "## Function to Create Table in Cassandra DB"
   ]
  },
  {
   "cell_type": "code",
   "execution_count": 4,
   "id": "0cfda6fc",
   "metadata": {},
   "outputs": [],
   "source": [
    "# Method for table creation\n",
    "\n",
    "def create_table(session, keyspace, table_name, column_names, column_types, primary_key):\n",
    "    \n",
    "    try:\n",
    "        \n",
    "        # Prepare Query for Table Creation based on parameters\n",
    "\n",
    "        qry= 'CREATE TABLE IF NOT EXISTS ' + keyspace + '.' + table_name + '('\n",
    "\n",
    "        for i in range(len(column_names)):\n",
    "            qry = qry + column_names[i] +  ' ' + column_types[i] + ', '\n",
    "\n",
    "\n",
    "        if primary_key:\n",
    "            qry = qry + 'PRIMARY KEY('\n",
    "            for pk in primary_key:\n",
    "                qry = qry + pk + ', '\n",
    "\n",
    "            qry = qry[:-2] + '));'\n",
    "\n",
    "        else:\n",
    "             qry = qry[:-2] + ');'\n",
    "\n",
    "\n",
    "\n",
    "        #Execute Table Creation Query\n",
    "\n",
    "        print(qry)\n",
    "        session.execute(qry)\n",
    "    \n",
    "    \n",
    "    except Exception as e:\n",
    "        \n",
    "        print(\"Error creating table in Cassandra DB\", str(e))"
   ]
  },
  {
   "cell_type": "markdown",
   "id": "2aeea45a",
   "metadata": {},
   "source": [
    "## Function to Populate Cassandra DB Table from Pandas Dataframe"
   ]
  },
  {
   "cell_type": "code",
   "execution_count": 5,
   "id": "34bd75b4",
   "metadata": {},
   "outputs": [],
   "source": [
    "# Method to Insert Pandas df into Cassandra table\n",
    "\n",
    "def insert_into_table_from_df(session, keyspace, table_name, column_names, df):\n",
    "    \n",
    "    try:\n",
    "    \n",
    "        # Prepare Query for insertion into table\n",
    "\n",
    "        qry= 'INSERT INTO ' + keyspace + '.' + table_name + ' ' + column_names + ' '  + 'VALUES (%s, %s)'\n",
    "\n",
    "\n",
    "        # Read Each Row from Data Frame and Insert Into Table One by One\n",
    "\n",
    "        for key, value in df.items():\n",
    "            print(qry, key, value)\n",
    "            session.execute(qry, (key, value))\n",
    "            \n",
    "    except Exception as e:\n",
    "        \n",
    "        print(\"Error inserting data into Cassandta DB table\", str(e))"
   ]
  },
  {
   "cell_type": "markdown",
   "id": "7035c0b1",
   "metadata": {},
   "source": [
    "## Function to Select * from Table in Cassandra DB"
   ]
  },
  {
   "cell_type": "code",
   "execution_count": 7,
   "id": "5dbf623f",
   "metadata": {},
   "outputs": [],
   "source": [
    "# Method to selct * from Cassandra table\n",
    "\n",
    "def select_from_table(session, keyspace, table_name):\n",
    "    \n",
    "    try:\n",
    "    \n",
    "        # Prepare Query for select\n",
    "\n",
    "        qry= 'SELECT * from '+ keyspace + '.' + table_name + ';'\n",
    "\n",
    "\n",
    "        # Execute Query\n",
    "\n",
    "        print(qry)\n",
    "        result = session.execute(qry)\n",
    "\n",
    "\n",
    "        # Print Each Row Reteived from the table\n",
    "        for x in result:\n",
    "            print(x[0], x[1])\n",
    "    \n",
    "    except Exception as e:\n",
    "        \n",
    "        print(\"Error selecting from to Cassandra DB table\", str(e))"
   ]
  }
 ],
 "metadata": {
  "kernelspec": {
   "display_name": "Python 3 (ipykernel)",
   "language": "python",
   "name": "python3"
  },
  "language_info": {
   "codemirror_mode": {
    "name": "ipython",
    "version": 3
   },
   "file_extension": ".py",
   "mimetype": "text/x-python",
   "name": "python",
   "nbconvert_exporter": "python",
   "pygments_lexer": "ipython3",
   "version": "3.11.3"
  }
 },
 "nbformat": 4,
 "nbformat_minor": 5
}
