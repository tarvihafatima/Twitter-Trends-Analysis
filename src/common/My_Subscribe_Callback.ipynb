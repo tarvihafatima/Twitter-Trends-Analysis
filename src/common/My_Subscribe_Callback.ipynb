{
 "cells": [
  {
   "cell_type": "code",
   "execution_count": 1,
   "id": "b2e26b49",
   "metadata": {},
   "outputs": [],
   "source": [
    "#import liberaries\n",
    "import time\n",
    "from datetime import timedelta, datetime\n",
    "from pubnub.callbacks import SubscribeCallback\n",
    "from pubnub.enums import PNStatusCategory, PNOperationType"
   ]
  },
  {
   "cell_type": "code",
   "execution_count": 2,
   "id": "d218289b",
   "metadata": {},
   "outputs": [],
   "source": [
    "# initialize global variables\n",
    "get_hour = None\n",
    "get_date = None"
   ]
  },
  {
   "cell_type": "code",
   "execution_count": 3,
   "id": "61f67012",
   "metadata": {},
   "outputs": [],
   "source": [
    "def my_publish_callback(envelope, status):\n",
    "    # Check whether request successfully completed or not\n",
    "    if not status.is_error():\n",
    "        pass  # Message successfully published to specified channel.\n",
    "    else:\n",
    "        pass  # Handle message publish error. Check 'category' property to find out possible issue\n",
    "        # because of which request did fail.\n",
    "        # Request can be resent using: [status retry];"
   ]
  },
  {
   "cell_type": "code",
   "execution_count": 4,
   "id": "5cd86377",
   "metadata": {},
   "outputs": [],
   "source": [
    "class FirstSubscribeCallback(SubscribeCallback):\n",
    "    \n",
    "    def presence(self, pubnub, presence):\n",
    "        pass  # handle incoming presence data\n",
    "    \n",
    "\n",
    "    def status(self, pubnub, status):\n",
    "        if status.category == PNStatusCategory.PNUnexpectedDisconnectCategory:\n",
    "            pass  # This event happens when radio / connectivity is lost\n",
    "\n",
    "        elif status.category == PNStatusCategory.PNConnectedCategory:\n",
    "            # Connect event. You can do stuff like publish, and know you'll get it.\n",
    "            # Or just use the connected event to confirm you are subscribed for\n",
    "            # UI / internal notifications, etc\n",
    "            pubnub.publish().channel('pubnub-twitter').message(\"Hello\").pn_async(my_publish_callback)\n",
    "\n",
    "        elif status.category == PNStatusCategory.PNReconnectedCategory:\n",
    "            pass\n",
    "            # Happens as part of our regular operation. This event happens when\n",
    "            # radio / connectivity is lost, then regained.\n",
    "        elif status.category == PNStatusCategory.PNDecryptionErrorCategory:\n",
    "            pass\n",
    "            # Handle message decryption error. Probably client configured to\n",
    "            # encrypt messages and on live data feed it received plain text.\n",
    "    \n",
    "    def message(self, pubnub, message):\n",
    "        # Handle new message stored in message.message\n",
    "        creation_time = datetime.strptime(message.message['created_at'], \"%a %b %d %H:%M:%S %z %Y\")\n",
    "\n",
    "        global get_hour, get_date\n",
    "        if get_hour is None:\n",
    "            get_hour = creation_time.hour\n",
    "            get_date = creation_time.date()\n",
    "            print(get_hour, get_date)\n",
    "            return\n",
    "            "
   ]
  }
 ],
 "metadata": {
  "kernelspec": {
   "display_name": "Python 3 (ipykernel)",
   "language": "python",
   "name": "python3"
  },
  "language_info": {
   "codemirror_mode": {
    "name": "ipython",
    "version": 3
   },
   "file_extension": ".py",
   "mimetype": "text/x-python",
   "name": "python",
   "nbconvert_exporter": "python",
   "pygments_lexer": "ipython3",
   "version": "3.11.3"
  }
 },
 "nbformat": 4,
 "nbformat_minor": 5
}
