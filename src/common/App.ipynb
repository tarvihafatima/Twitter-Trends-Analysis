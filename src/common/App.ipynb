{
 "cells": [
  {
   "cell_type": "markdown",
   "id": "503f62b3",
   "metadata": {},
   "source": [
    "## Import Dependencies"
   ]
  },
  {
   "cell_type": "code",
   "execution_count": 1,
   "id": "90f5b598",
   "metadata": {},
   "outputs": [],
   "source": [
    "#import libraries\n",
    "\n",
    "from pubnub.pnconfiguration import PNConfiguration\n",
    "from pubnub.pubnub import PubNub"
   ]
  },
  {
   "cell_type": "markdown",
   "id": "29ec3a21",
   "metadata": {},
   "source": [
    "## Initiate PubNub Configuartions Class"
   ]
  },
  {
   "cell_type": "code",
   "execution_count": 2,
   "id": "0578ae39",
   "metadata": {},
   "outputs": [],
   "source": [
    "class PubNub_Config:\n",
    "    \n",
    "    \n",
    "    # Class Initialization\n",
    "    \n",
    "    def __init__(self, subscribe_key, publish_key, user_id):\n",
    "        self.pnconfig = PNConfiguration()\n",
    "        self.pnconfig.subscribe_key = subscribe_key\n",
    "        self.pnconfig.publish_key = publish_key\n",
    "        self.pnconfig.user_id = user_id\n",
    "        self.pubnub = PubNub(self.pnconfig)\n",
    "        \n",
    "        \n",
    "    # Method to Start Twitter PubNub Streaming\n",
    "    \n",
    "    def run(self, MySubscribeCallback):\n",
    "        \n",
    "        try:\n",
    "            self.pubnub.add_listener(MySubscribeCallback)\n",
    "            self.pubnub.subscribe().channels('pubnub-twitter').execute()\n",
    "        \n",
    "        except Exception as e:\n",
    "            print(\"Error Starting PubNub Streaming\", str(e))\n",
    "        "
   ]
  }
 ],
 "metadata": {
  "kernelspec": {
   "display_name": "Python 3 (ipykernel)",
   "language": "python",
   "name": "python3"
  },
  "language_info": {
   "codemirror_mode": {
    "name": "ipython",
    "version": 3
   },
   "file_extension": ".py",
   "mimetype": "text/x-python",
   "name": "python",
   "nbconvert_exporter": "python",
   "pygments_lexer": "ipython3",
   "version": "3.11.3"
  }
 },
 "nbformat": 4,
 "nbformat_minor": 5
}
