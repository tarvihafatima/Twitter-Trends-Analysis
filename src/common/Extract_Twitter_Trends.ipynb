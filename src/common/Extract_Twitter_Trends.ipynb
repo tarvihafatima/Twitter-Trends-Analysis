{
 "cells": [
  {
   "cell_type": "markdown",
   "id": "4886fa38",
   "metadata": {},
   "source": [
    "## Import Dependencies"
   ]
  },
  {
   "cell_type": "code",
   "execution_count": 1,
   "id": "b3267452",
   "metadata": {},
   "outputs": [],
   "source": [
    "#import libraries\n",
    "\n",
    "from selenium import webdriver\n",
    "from selenium.webdriver.chrome.options import Options\n",
    "from selenium.webdriver.chrome.service import Service\n",
    "from webdriver_manager.chrome import ChromeDriverManager\n",
    "import pandas as pd\n",
    "from bs4 import BeautifulSoup\n",
    "import re"
   ]
  },
  {
   "cell_type": "markdown",
   "id": "141e009a",
   "metadata": {},
   "source": [
    "## Initiate Class for Extraction of Top Trends"
   ]
  },
  {
   "cell_type": "code",
   "execution_count": 2,
   "id": "7b45d459",
   "metadata": {},
   "outputs": [],
   "source": [
    "#Trends Class\n",
    "\n",
    "class Twitter_Trends:\n",
    "    \n",
    "    \n",
    "    # Class Initialization\n",
    "    \n",
    "    def __init__(self, country, date, hour, top):\n",
    "        self.country = country\n",
    "        self.date = date\n",
    "        self.hour = hour\n",
    "        self.top = top\n",
    "        self.top_trends = dict()\n",
    "        \n",
    "        \n",
    "    # Get Top Trends\n",
    "\n",
    "    def get_top_trends(self):\n",
    "\n",
    "        \n",
    "        # Configure Webdriver\n",
    "        \n",
    "        options = Options()\n",
    "        options.add_argument('--headless')\n",
    "        \n",
    "\n",
    "        # Obtain the version of ChromeDriver compatible with the browser being used\n",
    "        \n",
    "        driver = webdriver.Chrome(service=Service(ChromeDriverManager().install()), options=options)\n",
    "    \n",
    "    \n",
    "        # Generate URL for Scraping based on Configuartions  \n",
    "        \n",
    "        url = \"https://getdaytrends.com/\" + self.country + \"/\" + str(self.date) + \"/\" + str(self.hour) + \"/\" \n",
    "        print(url)\n",
    "\n",
    "        \n",
    "        # Web Scrape getdaytrends to bring the Twitter Trends\n",
    "        \n",
    "        driver.get(url)\n",
    "\n",
    "        \n",
    "        # Retreive Trends table\n",
    "        \n",
    "        content = driver.page_source\n",
    "        \n",
    "        \n",
    "        # parse the HTML content obtained to get Top Trends\n",
    "        \n",
    "        soup = BeautifulSoup(content, \"html.parser\")\n",
    "        mytds = soup.findAll(\"title\")\n",
    "\n",
    "        \n",
    "        # Cap Top if it is greater than number of trends received from website\n",
    "        \n",
    "        top = self.top+1\n",
    "        if top > len(mytds):\n",
    "            top = len(mytds)\n",
    "            self.top = len(mytds) - 1\n",
    "        \n",
    "        \n",
    "        # Retrieve Top Trends \n",
    "        \n",
    "        for i in range(top): \n",
    "            if i > 0:\n",
    "                text = str(mytds[i])\n",
    "                result = re.search('title>(.*):', text)\n",
    "                self.top_trends[i] = result.group(1).replace('#', '').lower()\n",
    "\n",
    "\n",
    "        return self.top_trends"
   ]
  }
 ],
 "metadata": {
  "kernelspec": {
   "display_name": "Python 3 (ipykernel)",
   "language": "python",
   "name": "python3"
  },
  "language_info": {
   "codemirror_mode": {
    "name": "ipython",
    "version": 3
   },
   "file_extension": ".py",
   "mimetype": "text/x-python",
   "name": "python",
   "nbconvert_exporter": "python",
   "pygments_lexer": "ipython3",
   "version": "3.11.3"
  }
 },
 "nbformat": 4,
 "nbformat_minor": 5
}
