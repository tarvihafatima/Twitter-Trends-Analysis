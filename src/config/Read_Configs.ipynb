{
 "cells": [
  {
   "cell_type": "markdown",
   "id": "f4f6e41a",
   "metadata": {},
   "source": [
    "## Import Dependencies"
   ]
  },
  {
   "cell_type": "code",
   "execution_count": 1,
   "id": "986f94ef",
   "metadata": {},
   "outputs": [],
   "source": [
    "#import libraries\n",
    "import yaml\n",
    "import sys\n",
    "import os"
   ]
  },
  {
   "cell_type": "markdown",
   "id": "8e3a113c",
   "metadata": {},
   "source": [
    "## Function to Read configuartion.yaml"
   ]
  },
  {
   "cell_type": "code",
   "execution_count": 1,
   "id": "d41d21a2",
   "metadata": {},
   "outputs": [],
   "source": [
    "def get_yaml():\n",
    "    \n",
    "    try:\n",
    "        \n",
    "        # get configuration.yaml path\n",
    "        \n",
    "        path = os.getcwd()\n",
    "        path = str(os.path.abspath(os.path.join(path, os.pardir))) + \"\\src\\data\\configuration.yaml\"\n",
    "        print(path)\n",
    "        \n",
    "        \n",
    "        # open configuration.yaml file and raed configurations\n",
    "        \n",
    "        with open(path, 'r') as ymlfile:\n",
    "            cfg = yaml.safe_load(ymlfile)\n",
    "            return cfg\n",
    "    \n",
    "    except Exception as e:\n",
    "        \n",
    "        print(\"Error reading configrations from .yaml\",  str(e))"
   ]
  },
  {
   "cell_type": "markdown",
   "id": "17dca589",
   "metadata": {},
   "source": [
    "## Function to Read PubNub configurations"
   ]
  },
  {
   "cell_type": "code",
   "execution_count": 2,
   "id": "dde98445",
   "metadata": {},
   "outputs": [],
   "source": [
    "def read_pubnub_configurations():\n",
    "    \n",
    "    # read pubnub configrations from configurations.yaml\n",
    "    \n",
    "    try:\n",
    "        cfg = get_yaml()\n",
    "        pubnub_config=cfg[\"pubnub_config\"]\n",
    "        return pubnub_config      \n",
    "    \n",
    "    except Exception as e:\n",
    "        \n",
    "        print(\"Error reading pubnub configurations\", str(e))"
   ]
  },
  {
   "cell_type": "markdown",
   "id": "1ba6c430",
   "metadata": {},
   "source": [
    "## Function to Read Cassandra Configurations"
   ]
  },
  {
   "cell_type": "code",
   "execution_count": 2,
   "id": "c0adf35b",
   "metadata": {},
   "outputs": [],
   "source": [
    "def read_cassandra_configurations():\n",
    "    \n",
    "    try:\n",
    "        \n",
    "        # read cassandra configrations from configurations.yaml\n",
    "\n",
    "        cfg = get_yaml()\n",
    "        cassandra_config=cfg[\"cassandra_config\"]\n",
    "\n",
    "        # get zip path for Cassandra db bundle\n",
    "\n",
    "        path = os.getcwd()\n",
    "        zip_path = str(os.path.abspath(os.path.join(path, os.pardir))) + \"\\src\\data\\secure-connect-twitter-trends-db.zip\"\n",
    "\n",
    "        return zip_path, cassandra_config\n",
    "    \n",
    "    except Exception as e:\n",
    "        \n",
    "        print(\"Error reading cassandra configurations\", str(e))"
   ]
  }
 ],
 "metadata": {
  "kernelspec": {
   "display_name": "Python 3 (ipykernel)",
   "language": "python",
   "name": "python3"
  },
  "language_info": {
   "codemirror_mode": {
    "name": "ipython",
    "version": 3
   },
   "file_extension": ".py",
   "mimetype": "text/x-python",
   "name": "python",
   "nbconvert_exporter": "python",
   "pygments_lexer": "ipython3",
   "version": "3.11.3"
  }
 },
 "nbformat": 4,
 "nbformat_minor": 5
}
