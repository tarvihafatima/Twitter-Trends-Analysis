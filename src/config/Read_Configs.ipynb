{
 "cells": [
  {
   "cell_type": "code",
   "execution_count": 1,
   "id": "986f94ef",
   "metadata": {},
   "outputs": [],
   "source": [
    "#import libraries\n",
    "import yaml\n",
    "import sys\n",
    "import os"
   ]
  },
  {
   "cell_type": "code",
   "execution_count": 2,
   "id": "dde98445",
   "metadata": {},
   "outputs": [],
   "source": [
    "def read_pubnub_configurations():\n",
    "    try:\n",
    "        path = os.getcwd()\n",
    "        path = str(os.path.abspath(os.path.join(path, os.pardir))) + \"\\src\\data\\configuration.yaml\"\n",
    "        print(path)\n",
    "        with open(path, 'r') as ymlfile:\n",
    "            cfg = yaml.safe_load(ymlfile)\n",
    "            pubnub_config=cfg[\"pubnub_config\"]\n",
    "            return pubnub_config\n",
    "            \n",
    "    except Exception as e:\n",
    "        print(str(e))"
   ]
  }
 ],
 "metadata": {
  "kernelspec": {
   "display_name": "Python 3 (ipykernel)",
   "language": "python",
   "name": "python3"
  },
  "language_info": {
   "codemirror_mode": {
    "name": "ipython",
    "version": 3
   },
   "file_extension": ".py",
   "mimetype": "text/x-python",
   "name": "python",
   "nbconvert_exporter": "python",
   "pygments_lexer": "ipython3",
   "version": "3.11.3"
  }
 },
 "nbformat": 4,
 "nbformat_minor": 5
}
